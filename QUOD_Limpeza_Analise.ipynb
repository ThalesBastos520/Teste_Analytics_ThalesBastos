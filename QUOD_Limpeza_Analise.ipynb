{
 "cells": [
  {
   "cell_type": "markdown",
   "id": "4a25a3a2",
   "metadata": {},
   "source": [
    "# Teste técnico QUOD - Limpeza e Análise de Dados de Vendas"
   ]
  },
  {
   "cell_type": "code",
   "execution_count": 3,
   "id": "0676e9fd",
   "metadata": {},
   "outputs": [],
   "source": [
    "import pandas as pd\n",
    "import numpy as np\n",
    "import random"
   ]
  },
  {
   "cell_type": "markdown",
   "id": "1d65b043",
   "metadata": {},
   "source": [
    "### Criação do nosso Dataset"
   ]
  },
  {
   "cell_type": "markdown",
   "id": "3d27b0d8",
   "metadata": {},
   "source": [
    " Definição de produtos e categorias"
   ]
  },
  {
   "cell_type": "code",
   "execution_count": 11,
   "id": "02ea9d7a",
   "metadata": {},
   "outputs": [],
   "source": [
    "produtos_categorias = {\n",
    "    \"Notebook\": \"Eletrônicos\",\n",
    "    \"Smartphone\": \"Eletrônicos\",\n",
    "    \"Fone de Ouvido\": \"Eletrônicos\",\n",
    "    \"Camiseta\": \"Vestuário\",\n",
    "    \"Calça Jeans\": \"Vestuário\",\n",
    "    \"Tênis\": \"Vestuário\",\n",
    "    \"Cadeira Gamer\": \"Móveis\",\n",
    "    \"Mesa de Escritório\": \"Móveis\",\n",
    "    \"Sofá\": \"Móveis\",\n",
    "    \"Geladeira\": \"Eletrodomésticos\",\n",
    "    \"Micro-ondas\": \"Eletrodomésticos\",\n",
    "    \"Liquidificador\": \"Eletrodomésticos\"\n",
    "}"
   ]
  },
  {
   "cell_type": "markdown",
   "id": "9a4846c9",
   "metadata": {},
   "source": [
    "Gerar preço de acordo com a categoria"
   ]
  },
  {
   "cell_type": "code",
   "execution_count": 12,
   "id": "49ce3574",
   "metadata": {},
   "outputs": [],
   "source": [
    "def gerar_preco(categoria):\n",
    "    if categoria == \"Eletrônicos\":\n",
    "        return round(random.uniform(200, 6000), 2)\n",
    "    elif categoria == \"Vestuário\":\n",
    "        return round(random.uniform(50, 500), 2)\n",
    "    elif categoria == \"Móveis\":\n",
    "        return round(random.uniform(300, 3000), 2)\n",
    "    elif categoria == \"Eletrodomésticos\":\n",
    "        return round(random.uniform(150, 4000), 2)\n"
   ]
  },
  {
   "cell_type": "markdown",
   "id": "e2a09498",
   "metadata": {},
   "source": [
    "Gerando o dataset"
   ]
  },
  {
   "cell_type": "code",
   "execution_count": 13,
   "id": "cbe6f7f7",
   "metadata": {},
   "outputs": [],
   "source": [
    "np.random.seed(42)\n",
    "random.seed(42)\n",
    "\n",
    "num_registros = 50\n",
    "datas = pd.date_range(\"2023-01-01\", \"2023-12-31\").to_list()\n",
    "\n",
    "dados = []\n",
    "for i in range(1, num_registros + 1):\n",
    "    produto = random.choice(list(produtos_categorias.keys()))\n",
    "    categoria = produtos_categorias[produto]\n",
    "    quantidade = random.randint(1, 10)\n",
    "    preco = gerar_preco(categoria)\n",
    "    data = random.choice(datas)\n",
    "    dados.append([i, data.strftime(\"%d/%m/%Y\"), produto, categoria, quantidade, preco])\n"
   ]
  },
  {
   "cell_type": "markdown",
   "id": "17db0f0e",
   "metadata": {},
   "source": [
    "Criação do dataframe (df)"
   ]
  },
  {
   "cell_type": "code",
   "execution_count": 14,
   "id": "6e35da66",
   "metadata": {},
   "outputs": [
    {
     "name": "stdout",
     "output_type": "stream",
     "text": [
      "   ID        Data      Produto         Categoria  Quantidade   Preço\n",
      "0   1  21/05/2023  Micro-ondas  Eletrodomésticos           2  246.29\n",
      "1   2  22/02/2023     Camiseta         Vestuário           4  112.79\n",
      "2   3  05/08/2023  Micro-ondas  Eletrodomésticos           9  484.71\n",
      "3   4  30/04/2023     Notebook       Eletrônicos           1  743.43\n",
      "4   5  12/04/2023         Sofá            Móveis          10  371.65\n"
     ]
    }
   ],
   "source": [
    "df = pd.DataFrame(dados, columns=[\"ID\", \"Data\", \"Produto\", \"Categoria\", \"Quantidade\", \"Preço\"])\n",
    "\n",
    "print(df.head())"
   ]
  },
  {
   "cell_type": "markdown",
   "id": "594a23dd",
   "metadata": {},
   "source": [
    "Criação do documento em CSV do nosso dataframe"
   ]
  },
  {
   "cell_type": "code",
   "execution_count": 15,
   "id": "5bb2de17",
   "metadata": {},
   "outputs": [],
   "source": [
    "df.to_csv(\"vendas_simuladas.csv\", index=False, encoding=\"utf-8-sig\")\n"
   ]
  },
  {
   "cell_type": "markdown",
   "id": "e9ad7b31",
   "metadata": {},
   "source": [
    "### Data Cleaning\n",
    "A partir daqui será feito a limpeza do nosso dataframe, para simular um dataset real, foram feitas mudanças de forma manual, incluindo mais linhas duplicadas e removendo alguns valores, simulando um cenário real"
   ]
  },
  {
   "cell_type": "code",
   "execution_count": 21,
   "id": "fbef6be3",
   "metadata": {},
   "outputs": [],
   "source": [
    "df = pd.read_csv(\"vendas_simuladas.csv\")"
   ]
  },
  {
   "cell_type": "code",
   "execution_count": 22,
   "id": "e40528eb",
   "metadata": {},
   "outputs": [
    {
     "name": "stdout",
     "output_type": "stream",
     "text": [
      "\n",
      "Tipos de dados:\n",
      " ID              int64\n",
      "Data           object\n",
      "Produto        object\n",
      "Categoria      object\n",
      "Quantidade      int64\n",
      "Preço         float64\n",
      "dtype: object\n"
     ]
    }
   ],
   "source": [
    "print(\"\\nTipos de dados:\\n\", df.dtypes)"
   ]
  },
  {
   "cell_type": "code",
   "execution_count": 23,
   "id": "2f309414",
   "metadata": {},
   "outputs": [
    {
     "data": {
      "text/html": [
       "<div>\n",
       "<style scoped>\n",
       "    .dataframe tbody tr th:only-of-type {\n",
       "        vertical-align: middle;\n",
       "    }\n",
       "\n",
       "    .dataframe tbody tr th {\n",
       "        vertical-align: top;\n",
       "    }\n",
       "\n",
       "    .dataframe thead th {\n",
       "        text-align: right;\n",
       "    }\n",
       "</style>\n",
       "<table border=\"1\" class=\"dataframe\">\n",
       "  <thead>\n",
       "    <tr style=\"text-align: right;\">\n",
       "      <th></th>\n",
       "      <th>ID</th>\n",
       "      <th>Data</th>\n",
       "      <th>Produto</th>\n",
       "      <th>Categoria</th>\n",
       "      <th>Quantidade</th>\n",
       "      <th>Preço</th>\n",
       "    </tr>\n",
       "  </thead>\n",
       "  <tbody>\n",
       "    <tr>\n",
       "      <th>0</th>\n",
       "      <td>1</td>\n",
       "      <td>21/05/2023</td>\n",
       "      <td>Micro-ondas</td>\n",
       "      <td>Eletrodomésticos</td>\n",
       "      <td>2</td>\n",
       "      <td>246.29</td>\n",
       "    </tr>\n",
       "    <tr>\n",
       "      <th>1</th>\n",
       "      <td>2</td>\n",
       "      <td>22/02/2023</td>\n",
       "      <td>Camiseta</td>\n",
       "      <td>Vestuário</td>\n",
       "      <td>4</td>\n",
       "      <td>112.79</td>\n",
       "    </tr>\n",
       "    <tr>\n",
       "      <th>2</th>\n",
       "      <td>3</td>\n",
       "      <td>05/08/2023</td>\n",
       "      <td>Micro-ondas</td>\n",
       "      <td>Eletrodomésticos</td>\n",
       "      <td>9</td>\n",
       "      <td>484.71</td>\n",
       "    </tr>\n",
       "    <tr>\n",
       "      <th>3</th>\n",
       "      <td>4</td>\n",
       "      <td>30/04/2023</td>\n",
       "      <td>Notebook</td>\n",
       "      <td>Eletrônicos</td>\n",
       "      <td>1</td>\n",
       "      <td>743.43</td>\n",
       "    </tr>\n",
       "    <tr>\n",
       "      <th>4</th>\n",
       "      <td>5</td>\n",
       "      <td>12/04/2023</td>\n",
       "      <td>Sofá</td>\n",
       "      <td>Móveis</td>\n",
       "      <td>10</td>\n",
       "      <td>371.65</td>\n",
       "    </tr>\n",
       "  </tbody>\n",
       "</table>\n",
       "</div>"
      ],
      "text/plain": [
       "   ID        Data      Produto         Categoria  Quantidade   Preço\n",
       "0   1  21/05/2023  Micro-ondas  Eletrodomésticos           2  246.29\n",
       "1   2  22/02/2023     Camiseta         Vestuário           4  112.79\n",
       "2   3  05/08/2023  Micro-ondas  Eletrodomésticos           9  484.71\n",
       "3   4  30/04/2023     Notebook       Eletrônicos           1  743.43\n",
       "4   5  12/04/2023         Sofá            Móveis          10  371.65"
      ]
     },
     "execution_count": 23,
     "metadata": {},
     "output_type": "execute_result"
    }
   ],
   "source": [
    "df.head()"
   ]
  },
  {
   "cell_type": "markdown",
   "id": "dffe4d24",
   "metadata": {},
   "source": [
    "1° Passo:  \n",
    "Verificação de valores faltantes:\n",
    "Checa se há células vazias no dataset com df.isnull().sum()."
   ]
  },
  {
   "cell_type": "code",
   "execution_count": 24,
   "id": "3cb612fa",
   "metadata": {},
   "outputs": [
    {
     "name": "stdout",
     "output_type": "stream",
     "text": [
      "Valores faltantes antes do tratamento:\n",
      " ID            0\n",
      "Data          0\n",
      "Produto       1\n",
      "Categoria     1\n",
      "Quantidade    0\n",
      "Preço         0\n",
      "dtype: int64\n"
     ]
    }
   ],
   "source": [
    "\n",
    "print(\"Valores faltantes antes do tratamento:\\n\", df.isnull().sum())\n"
   ]
  },
  {
   "cell_type": "markdown",
   "id": "ab0560de",
   "metadata": {},
   "source": [
    "2° Passo:  \n",
    "\n",
    "Tratamento de valores faltantes:\n",
    "Substitui dados ausentes —\n",
    "\n",
    "Aqui foi usado estratégias diferentes por tipo de coluna\n",
    "\n",
    "“Produto” e “Categoria” recebem rótulos genéricos;\n",
    "\n",
    "“Quantidade” recebe a mediana;\n",
    "\n",
    "“Preço” recebe a média.\n",
    "\n"
   ]
  },
  {
   "cell_type": "code",
   "execution_count": 25,
   "id": "d29d10cb",
   "metadata": {},
   "outputs": [],
   "source": [
    "df[\"Produto\"] = df[\"Produto\"].fillna(\"Produto Desconhecido\")\n",
    "df[\"Categoria\"] = df[\"Categoria\"].fillna(\"Outros\")\n",
    "df[\"Quantidade\"] = df[\"Quantidade\"].fillna(df[\"Quantidade\"].median())\n",
    "df[\"Preço\"] = df[\"Preço\"].fillna(df[\"Preço\"].mean())\n"
   ]
  },
  {
   "cell_type": "markdown",
   "id": "1c3008a0",
   "metadata": {},
   "source": [
    "3° Passo \n",
    "\n",
    "Remoção de duplicatas:"
   ]
  },
  {
   "cell_type": "code",
   "execution_count": 26,
   "id": "5bdc1db8",
   "metadata": {},
   "outputs": [],
   "source": [
    "df = df.drop_duplicates()"
   ]
  },
  {
   "cell_type": "markdown",
   "id": "ff366632",
   "metadata": {},
   "source": [
    "4° Passo\n",
    "\n",
    "Conversão de tipos de dados:\n",
    "Garante que cada coluna tenha o tipo correto:\n",
    "\n",
    "ID e Quantidade → inteiros;\n",
    "\n",
    "Preço → decimal (float);\n",
    "\n",
    "Data → formato de data (datetime)."
   ]
  },
  {
   "cell_type": "code",
   "execution_count": 27,
   "id": "45fee0ba",
   "metadata": {},
   "outputs": [],
   "source": [
    "df[\"ID\"] = df[\"ID\"].astype(int)\n",
    "df[\"Quantidade\"] = df[\"Quantidade\"].astype(int)\n",
    "df[\"Preço\"] = df[\"Preço\"].astype(float)\n",
    "df[\"Data\"] = pd.to_datetime(df[\"Data\"], format=\"%d/%m/%Y\", errors=\"coerce\")"
   ]
  },
  {
   "cell_type": "markdown",
   "id": "121e80b1",
   "metadata": {},
   "source": [
    "Print dos resultados\n"
   ]
  },
  {
   "cell_type": "code",
   "execution_count": 30,
   "id": "54105694",
   "metadata": {},
   "outputs": [
    {
     "name": "stdout",
     "output_type": "stream",
     "text": [
      "\n",
      "Tipos de dados após limpeza:\n",
      " ID                     int64\n",
      "Data          datetime64[ns]\n",
      "Produto               object\n",
      "Categoria             object\n",
      "Quantidade             int64\n",
      "Preço                float64\n",
      "dtype: object\n",
      "\n",
      "Primeiras linhas após limpeza:\n",
      "    ID       Data      Produto         Categoria  Quantidade   Preço\n",
      "0   1 2023-05-21  Micro-ondas  Eletrodomésticos           2  246.29\n",
      "1   2 2023-02-22     Camiseta         Vestuário           4  112.79\n",
      "2   3 2023-08-05  Micro-ondas  Eletrodomésticos           9  484.71\n",
      "3   4 2023-04-30     Notebook       Eletrônicos           1  743.43\n",
      "4   5 2023-04-12         Sofá            Móveis          10  371.65\n"
     ]
    }
   ],
   "source": [
    "print(\"\\nTipos de dados após limpeza:\\n\", df.dtypes)\n",
    "print(\"\\nPrimeiras linhas após limpeza:\\n\", df.head())"
   ]
  },
  {
   "cell_type": "markdown",
   "id": "c4f99cc9",
   "metadata": {},
   "source": [
    "Verificando novamente se houve realmente as mudanças"
   ]
  },
  {
   "cell_type": "code",
   "execution_count": 29,
   "id": "f6e82652",
   "metadata": {},
   "outputs": [
    {
     "name": "stdout",
     "output_type": "stream",
     "text": [
      "Há 0 entradas duplicadas no 48 nesse dataset.\n",
      "Valores faltantes antes do tratamento:\n",
      " ID            0\n",
      "Data          0\n",
      "Produto       0\n",
      "Categoria     0\n",
      "Quantidade    0\n",
      "Preço         0\n",
      "dtype: int64\n"
     ]
    }
   ],
   "source": [
    "dup = df[df.duplicated()].shape[0]\n",
    "print(f\"Há {dup} entradas duplicadas no {df.shape[0]} nesse dataset.\")\n",
    "\n",
    "print(\"Valores faltantes antes do tratamento:\\n\", df.isnull().sum())"
   ]
  },
  {
   "cell_type": "markdown",
   "id": "9c65df4f",
   "metadata": {},
   "source": [
    "Salvando o dataset limpo em um arquivo data_clean.csv."
   ]
  },
  {
   "cell_type": "code",
   "execution_count": 17,
   "id": "6363b192",
   "metadata": {},
   "outputs": [],
   "source": [
    "df.to_csv(\"data_clean.csv\", index=False, encoding=\"utf-8-sig\")"
   ]
  },
  {
   "cell_type": "markdown",
   "id": "1720609c",
   "metadata": {},
   "source": [
    "Utilizando o dataset limpo, foi realizado as seguintes análises:\n",
    "\n",
    "Calcular o total de vendas (Quantidade * Preço) por produto.\n"
   ]
  },
  {
   "cell_type": "code",
   "execution_count": 18,
   "id": "9921de6f",
   "metadata": {},
   "outputs": [],
   "source": [
    "# Criando a coluna com o total de vendas (Quantidade * Preço)\n",
    "df[\"Total_Venda\"] = df[\"Quantidade\"] * df[\"Preço\"]\n",
    "\n",
    "# Calculando o total de vendas por produto\n",
    "vendas_por_produto = df.groupby(\"Produto\")[\"Total_Venda\"].sum().reset_index()"
   ]
  },
  {
   "cell_type": "markdown",
   "id": "367148cf",
   "metadata": {},
   "source": [
    "\n",
    "Identificando o produto com o maior número de vendas totais."
   ]
  },
  {
   "cell_type": "code",
   "execution_count": 19,
   "id": "4516d346",
   "metadata": {},
   "outputs": [],
   "source": [
    "produto_top = vendas_por_produto.loc[vendas_por_produto[\"Total_Venda\"].idxmax()]"
   ]
  },
  {
   "cell_type": "markdown",
   "id": "35290537",
   "metadata": {},
   "source": [
    "Resultado:"
   ]
  },
  {
   "cell_type": "code",
   "execution_count": 20,
   "id": "4fba6ef7",
   "metadata": {},
   "outputs": [
    {
     "name": "stdout",
     "output_type": "stream",
     "text": [
      "Total de Vendas por Produto\n",
      "               Produto  Total_Venda\n",
      "7          Micro-ondas     90570.02\n",
      "9           Smartphone     55699.79\n",
      "4            Geladeira     48943.11\n",
      "3       Fone de Ouvido     44526.22\n",
      "0        Cadeira Gamer     37610.83\n",
      "8             Notebook     28917.11\n",
      "5       Liquidificador     21698.01\n",
      "10                Sofá     16680.41\n",
      "2             Camiseta      7078.93\n",
      "1          Calça Jeans      2623.33\n",
      "6   Mesa de Escritório      1938.70\n",
      "11               Tênis       470.08\n",
      "\n",
      "Produto com Maior Total de Vendas \n",
      "Produto        Micro-ondas\n",
      "Total_Venda       90570.02\n",
      "Name: 7, dtype: object\n"
     ]
    }
   ],
   "source": [
    "print(\"Total de Vendas por Produto\")\n",
    "print(vendas_por_produto.sort_values(by=\"Total_Venda\", ascending=False))\n",
    "\n",
    "print(\"\\nProduto com Maior Total de Vendas \")\n",
    "print(produto_top)"
   ]
  }
 ],
 "metadata": {
  "kernelspec": {
   "display_name": "Python 3",
   "language": "python",
   "name": "python3"
  },
  "language_info": {
   "codemirror_mode": {
    "name": "ipython",
    "version": 3
   },
   "file_extension": ".py",
   "mimetype": "text/x-python",
   "name": "python",
   "nbconvert_exporter": "python",
   "pygments_lexer": "ipython3",
   "version": "3.13.7"
  }
 },
 "nbformat": 4,
 "nbformat_minor": 5
}
